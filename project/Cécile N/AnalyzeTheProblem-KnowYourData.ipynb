{
 "cells": [
  {
   "cell_type": "code",
   "execution_count": 2,
   "metadata": {},
   "outputs": [],
   "source": [
    "# This code serves to show pdf files in the notebook\n",
    "from IPython.core.display import HTML\n",
    "def pdf(url):\n",
    "    return HTML('<embed src=\"%s\" type=\"application/pdf\" width=\"100%%\" height=\"600px\" />' % url)"
   ]
  },
  {
   "cell_type": "markdown",
   "metadata": {},
   "source": [
    "# analyze the type of problem you are facing and know your data</center>\n",
    "\n",
    "## What are the data ?\n",
    "\n",
    "The data I will use in this project are the [Titanic dataset from kaggle](https://www.kaggle.com/c/titanic/data).\n",
    "\n",
    "On this web page there is a data description with an overwiew explaining the datasets and the data dictionary :\n",
    "\n",
    "\n",
    "![Image of the data dictionary](https://raw.githubusercontent.com/NAVERGONI/MicrosoftML-ProjectShowcasing/master/project/C%C3%A9cile%20N/images/2020-09-10%2023_32_05-Titanic_%20Machine%20Learning%20from%20Disaster%20_%20Kaggle.png)\n",
    "\n",
    "![img overview of data](https://raw.githubusercontent.com/NAVERGONI/MicrosoftML-ProjectShowcasing/master/project/C%C3%A9cile%20N/images/2020-09-11%2000_02_21-Titanic_%20Machine%20Learning%20from%20Disaster%20_%20Kaggle.png)\n",
    "\n",
    "\n",
    "## What is the goal ?\n",
    "\n",
    "The goal is to predict if a passenger **did survive or not** using the known features as sex, age, ...\n",
    "\n",
    "\n",
    "## what are we facing in terms of Machine Learning vocabulary\n",
    "\n",
    "### the different types of approaches\n",
    "\n",
    "There are three main approaches to machine learning :\n",
    "\n",
    "- Supervised learning : learns from data that contains both the inputs **AND** expected outputs\n",
    "\n",
    "- Unsupervised learning : learns from data that contains only inputs and finds hidden structures in data\n",
    "\n",
    "- Reinforcement learning : learns how an agent should take actions in an environment to maximize a reward function\n",
    "\n",
    "In the Titanic dataset *we know if a person survived or not* => **we have the inputs** (age, sex, ...) **AND** the **expected outputs** (survival = 0 or 1).\n",
    "\n",
    "So we can say that our approach to this problem is a **supervised** one.\n",
    "\n",
    "### the different types of data\n",
    "\n",
    "there is two main types of data : \n",
    "\n",
    "1. Quantitative data (Numerical data)\n",
    "\n",
    "2. Qualitative data (Categorical data)\n"
   ]
  },
  {
   "cell_type": "code",
   "execution_count": 6,
   "metadata": {},
   "outputs": [
    {
     "data": {
      "text/html": [
       "<embed src=\"./images/TypeOfData_Quantitative.pdf\" type=\"application/pdf\" width=\"100%\" height=\"600px\" />"
      ],
      "text/plain": [
       "<IPython.core.display.HTML object>"
      ]
     },
     "execution_count": 6,
     "metadata": {},
     "output_type": "execute_result"
    }
   ],
   "source": [
    "pdf('./images/TypeOfData_Quantitative.pdf')"
   ]
  },
  {
   "cell_type": "code",
   "execution_count": 5,
   "metadata": {},
   "outputs": [
    {
     "data": {
      "text/html": [
       "<embed src=\"./images/TypeOfData_Qualitative.pdf\" type=\"application/pdf\" width=\"100%\" height=\"600px\" />"
      ],
      "text/plain": [
       "<IPython.core.display.HTML object>"
      ]
     },
     "execution_count": 5,
     "metadata": {},
     "output_type": "execute_result"
    }
   ],
   "source": [
    "pdf('./images/TypeOfData_Qualitative.pdf')"
   ]
  },
  {
   "cell_type": "code",
   "execution_count": null,
   "metadata": {},
   "outputs": [],
   "source": []
  }
 ],
 "metadata": {
  "kernelspec": {
   "display_name": "Python 3",
   "language": "python",
   "name": "python3"
  },
  "language_info": {
   "codemirror_mode": {
    "name": "ipython",
    "version": 3
   },
   "file_extension": ".py",
   "mimetype": "text/x-python",
   "name": "python",
   "nbconvert_exporter": "python",
   "pygments_lexer": "ipython3",
   "version": "3.7.6"
  }
 },
 "nbformat": 4,
 "nbformat_minor": 4
}
