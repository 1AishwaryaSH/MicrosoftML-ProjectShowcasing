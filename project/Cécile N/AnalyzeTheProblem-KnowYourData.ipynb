{
 "cells": [
  {
   "cell_type": "markdown",
   "metadata": {},
   "source": [
    "# analyze the type of problem you are facing and know your data\n",
    "\n",
    "## analyze the type of problem\n",
    "\n",
    "\n",
    "\n",
    "## the different types of approaches\n",
    "\n",
    "There are three main approaches to machine learning :\n",
    "\n",
    "- Supervised learning\n",
    "- Unsupervised learning\n",
    "- Reinforcement learning\n",
    "\n",
    "### Supervised learning\n",
    "\n",
    "### Unsupervised learning\n",
    "\n",
    "### Reinforcement learning\n",
    "\n"
   ]
  },
  {
   "cell_type": "code",
   "execution_count": null,
   "metadata": {},
   "outputs": [],
   "source": []
  }
 ],
 "metadata": {
  "kernelspec": {
   "display_name": "Python 3",
   "language": "python",
   "name": "python3"
  },
  "language_info": {
   "codemirror_mode": {
    "name": "ipython",
    "version": 3
   },
   "file_extension": ".py",
   "mimetype": "text/x-python",
   "name": "python",
   "nbconvert_exporter": "python",
   "pygments_lexer": "ipython3",
   "version": "3.7.6"
  }
 },
 "nbformat": 4,
 "nbformat_minor": 4
}
