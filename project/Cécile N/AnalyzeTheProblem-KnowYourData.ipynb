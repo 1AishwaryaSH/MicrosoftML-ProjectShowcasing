{
 "cells": [
  {
   "cell_type": "markdown",
   "metadata": {},
   "source": [
    "# analyze the type of problem you are facing and know your data</center>\n",
    "\n",
    "## What are the data ?\n",
    "\n",
    "The data I will use in this project are the [Titanic dataset from kaggle](https://www.kaggle.com/c/titanic/data).\n",
    "\n",
    "On this web page there is a data description with an overwiew explaining the datasets and the data dictionary :\n",
    "\n",
    "\n",
    "![Image of the data dictionary](https://raw.githubusercontent.com/NAVERGONI/MicrosoftML-ProjectShowcasing/master/project/C%C3%A9cile%20N/images/2020-09-10%2023_32_05-Titanic_%20Machine%20Learning%20from%20Disaster%20_%20Kaggle.png)\n",
    "\n",
    "![img overview of data](https://raw.githubusercontent.com/NAVERGONI/MicrosoftML-ProjectShowcasing/master/project/C%C3%A9cile%20N/images/2020-09-11%2000_02_21-Titanic_%20Machine%20Learning%20from%20Disaster%20_%20Kaggle.png)\n",
    "\n",
    "\n",
    "## What is the goal ?\n",
    "\n",
    "The goal is to predict if a passenger **did survive or not** using the known features as sex, age, ...\n",
    "\n",
    "\n",
    "## what are we facing in terms of Machine Learning vocabulary\n",
    "\n",
    "### the different types of approaches\n",
    "\n",
    "There are three main approaches to machine learning :\n",
    "\n",
    "- Supervised learning : learns from data that contains both the inputs **AND** expected outputs\n",
    "\n",
    "- Unsupervised learning : learns from data that contains only inputs and finds hidden structures in data\n",
    "\n",
    "- Reinforcement learning : learns how an agent should take actions in an environment to maximize a reward function\n",
    "\n",
    "In the Titanic dataset *we know if a person survived or not* => **we have the inputs** (age, sex, ...) **AND** the **expected outputs** (survival = 0 or 1).\n",
    "\n",
    "So we can say that our approach to this problem is a **supervised** one.\n",
    "\n",
    "### the different types of data\n",
    "\n",
    "there is two main types of data : \n",
    "\n",
    "1. Quantitative data (Numerical data)\n",
    "\n",
    "2. Qualitative data (Categorical data)\n",
    "\n"
   ]
  },
  {
   "cell_type": "code",
   "execution_count": 1,
   "metadata": {},
   "outputs": [
    {
     "name": "stdout",
     "output_type": "stream",
     "text": [
      " Le volume dans le lecteur C s’appelle Acer\n",
      " Le numéro de série du volume est 8A39-C160\n",
      "\n",
      " Répertoire de C:\\Users\\cecile\\Documents\\GitHub\\MicrosoftML-ProjectShowcasing\\project\\Cécile N\n",
      "\n",
      "10/09/2020  23:37    <DIR>          .\n",
      "10/09/2020  23:37    <DIR>          ..\n",
      "05/09/2020  23:40    <DIR>          .ipynb_checkpoints\n",
      "10/09/2020  23:37             1 723 AnalyzeTheProblem-KnowYourData.ipynb\n",
      "05/09/2020  23:23    <DIR>          data\n",
      "10/09/2020  23:34    <DIR>          images\n",
      "10/09/2020  22:45             1 335 README.md\n",
      "               2 fichier(s)            3 058 octets\n",
      "               5 Rép(s)  118 444 793 856 octets libres\n"
     ]
    }
   ],
   "source": [
    "ls"
   ]
  },
  {
   "cell_type": "code",
   "execution_count": null,
   "metadata": {},
   "outputs": [],
   "source": []
  }
 ],
 "metadata": {
  "kernelspec": {
   "display_name": "Python 3",
   "language": "python",
   "name": "python3"
  },
  "language_info": {
   "codemirror_mode": {
    "name": "ipython",
    "version": 3
   },
   "file_extension": ".py",
   "mimetype": "text/x-python",
   "name": "python",
   "nbconvert_exporter": "python",
   "pygments_lexer": "ipython3",
   "version": "3.7.6"
  }
 },
 "nbformat": 4,
 "nbformat_minor": 4
}
