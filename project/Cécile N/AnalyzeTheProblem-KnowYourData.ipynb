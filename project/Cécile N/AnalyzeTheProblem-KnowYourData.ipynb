{
 "cells": [
  {
   "cell_type": "markdown",
   "metadata": {},
   "source": [
    "# analyze the type of problem you are facing and know your data\n",
    "\n",
    "## What are the data ?\n",
    "\n",
    "The data I will use in this project is the [Titanic dataset from kaggle](https://www.kaggle.com/c/titanic/data).\n",
    "\n",
    "On this web page there is a data description with an overwiew explaining the datasets and the data dictionary :\n",
    "\n",
    "![alt text](/images/2020-09-10 23_32_05-Titanic_ Machine Learning from Disaster _ Kaggle.png \"data dictionary\")\n",
    "\n",
    "\n",
    "\n",
    "## analyze the type of problem\n",
    "\n",
    "\n",
    "\n",
    "## the different types of approaches\n",
    "\n",
    "There are three main approaches to machine learning :\n",
    "\n",
    "- Supervised learning\n",
    "- Unsupervised learning\n",
    "- Reinforcement learning\n",
    "\n",
    "### Supervised learning\n",
    "\n",
    "### Unsupervised learning\n",
    "\n",
    "### Reinforcement learning\n",
    "\n"
   ]
  },
  {
   "cell_type": "code",
   "execution_count": 1,
   "metadata": {},
   "outputs": [
    {
     "name": "stdout",
     "output_type": "stream",
     "text": [
      " Le volume dans le lecteur C s’appelle Acer\n",
      " Le numéro de série du volume est 8A39-C160\n",
      "\n",
      " Répertoire de C:\\Users\\cecile\\Documents\\GitHub\\MicrosoftML-ProjectShowcasing\\project\\Cécile N\n",
      "\n",
      "10/09/2020  23:37    <DIR>          .\n",
      "10/09/2020  23:37    <DIR>          ..\n",
      "05/09/2020  23:40    <DIR>          .ipynb_checkpoints\n",
      "10/09/2020  23:37             1 723 AnalyzeTheProblem-KnowYourData.ipynb\n",
      "05/09/2020  23:23    <DIR>          data\n",
      "10/09/2020  23:34    <DIR>          images\n",
      "10/09/2020  22:45             1 335 README.md\n",
      "               2 fichier(s)            3 058 octets\n",
      "               5 Rép(s)  118 444 793 856 octets libres\n"
     ]
    }
   ],
   "source": [
    "ls"
   ]
  },
  {
   "cell_type": "code",
   "execution_count": null,
   "metadata": {},
   "outputs": [],
   "source": []
  }
 ],
 "metadata": {
  "kernelspec": {
   "display_name": "Python 3",
   "language": "python",
   "name": "python3"
  },
  "language_info": {
   "codemirror_mode": {
    "name": "ipython",
    "version": 3
   },
   "file_extension": ".py",
   "mimetype": "text/x-python",
   "name": "python",
   "nbconvert_exporter": "python",
   "pygments_lexer": "ipython3",
   "version": "3.7.6"
  }
 },
 "nbformat": 4,
 "nbformat_minor": 4
}
